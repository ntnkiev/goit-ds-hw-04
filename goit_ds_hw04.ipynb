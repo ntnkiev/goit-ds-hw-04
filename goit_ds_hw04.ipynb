{
  "nbformat": 4,
  "nbformat_minor": 0,
  "metadata": {
    "colab": {
      "provenance": [],
      "toc_visible": true,
      "authorship_tag": "ABX9TyMLFyWpkvoCw/Gip0tz0aKz",
      "include_colab_link": true
    },
    "kernelspec": {
      "name": "python3",
      "display_name": "Python 3"
    },
    "language_info": {
      "name": "python"
    }
  },
  "cells": [
    {
      "cell_type": "markdown",
      "metadata": {
        "id": "view-in-github",
        "colab_type": "text"
      },
      "source": [
        "<a href=\"https://colab.research.google.com/github/ntnkiev/goit-ds-hw-04/blob/main/goit_ds_hw04.ipynb\" target=\"_parent\"><img src=\"https://colab.research.google.com/assets/colab-badge.svg\" alt=\"Open In Colab\"/></a>"
      ]
    },
    {
      "cell_type": "code",
      "source": [
        "import numpy as np\n"
      ],
      "metadata": {
        "id": "6ct_j6qVz9Nm"
      },
      "execution_count": 3,
      "outputs": []
    },
    {
      "cell_type": "markdown",
      "source": [
        "Створіть одновимірний масив (вектор) з першими 10-ма натуральними числами та виведіть його значення."
      ],
      "metadata": {
        "id": "v9LIAm8C44bA"
      }
    },
    {
      "cell_type": "code",
      "execution_count": null,
      "metadata": {
        "colab": {
          "base_uri": "https://localhost:8080/"
        },
        "id": "TRpevnWszak5",
        "outputId": "51150197-c836-4adb-c07e-955dc6d6c363"
      },
      "outputs": [
        {
          "output_type": "stream",
          "name": "stdout",
          "text": [
            "[ 1.  2.  3.  4.  5.  6.  7.  8.  9. 10.]\n"
          ]
        }
      ],
      "source": [
        "a = np.array([1, 2, 3, 4, 5, 6, 7, 8, 9 ,10], dtype=float)\n",
        "print(a)"
      ]
    },
    {
      "cell_type": "markdown",
      "source": [
        "Створіть двовимірний масив (матрицю) розміром 3x3, заповніть його нулями та виведіть його значення."
      ],
      "metadata": {
        "id": "TcylfANq49zM"
      }
    },
    {
      "cell_type": "code",
      "source": [
        "m33 = np.zeros((3, 3), dtype=int)\n",
        "print(m33)"
      ],
      "metadata": {
        "colab": {
          "base_uri": "https://localhost:8080/"
        },
        "id": "moibaNA-0QbC",
        "outputId": "cbda857d-8a79-4a98-8159-299dafa8b8b8"
      },
      "execution_count": 41,
      "outputs": [
        {
          "output_type": "stream",
          "name": "stdout",
          "text": [
            "[[0 0 0]\n",
            " [0 0 0]\n",
            " [0 0 0]]\n"
          ]
        }
      ]
    },
    {
      "cell_type": "markdown",
      "source": [
        "Створіть масив розміром 5x5, заповніть його випадковими цілими числами в діапазоні від 1 до 10 та виведіть його значення."
      ],
      "metadata": {
        "id": "WcQvSuk_5F7-"
      }
    },
    {
      "cell_type": "code",
      "source": [
        "m55 = np.random.randint(1, 11, (5, 5))\n",
        "print(m55)"
      ],
      "metadata": {
        "colab": {
          "base_uri": "https://localhost:8080/"
        },
        "id": "LxzuptOg0pOi",
        "outputId": "8dcd3b51-6b42-4a56-fc75-e492c97adb2e"
      },
      "execution_count": 42,
      "outputs": [
        {
          "output_type": "stream",
          "name": "stdout",
          "text": [
            "[[ 8  6  7  9  7]\n",
            " [ 5  1  2  1  5]\n",
            " [ 9  5  2  8  5]\n",
            " [ 5  8  9  4  7]\n",
            " [10  4  5  7  1]]\n"
          ]
        }
      ]
    },
    {
      "cell_type": "markdown",
      "source": [
        "Створіть масив розміром 4x4, заповніть його випадковими дійсними числами в діапазоні від 0 до 1 та виведіть його значення."
      ],
      "metadata": {
        "id": "XEox7pxV5JkP"
      }
    },
    {
      "cell_type": "code",
      "source": [
        "m44 = np.random.random((4, 4))\n",
        "print(m44)"
      ],
      "metadata": {
        "colab": {
          "base_uri": "https://localhost:8080/"
        },
        "id": "vsDEMHrG1f7d",
        "outputId": "428de231-7aa3-4fc2-c254-dea6c056ddfe"
      },
      "execution_count": 43,
      "outputs": [
        {
          "output_type": "stream",
          "name": "stdout",
          "text": [
            "[[0.2630981  0.41610128 0.85235563 0.76261329]\n",
            " [0.19072846 0.73939911 0.77524352 0.16699105]\n",
            " [0.01871776 0.50545539 0.04423672 0.39906153]\n",
            " [0.10308602 0.72577957 0.57682572 0.65286674]]\n"
          ]
        }
      ]
    },
    {
      "cell_type": "markdown",
      "source": [
        "Створіть два одновимірних масиви розміром 5, заповніть їх випадковими цілими числами в діапазоні від 1 до 10 та виконайте на них поелементні операції додавання, віднімання та множення."
      ],
      "metadata": {
        "id": "PUKBzO8m5N1G"
      }
    },
    {
      "cell_type": "code",
      "source": [
        "m1 = np.random.randint(1, 11, (5))\n",
        "m2 = np.random.randint(1, 11, (5))\n",
        "print(m1, m2)\n",
        "print(m1 + m2)\n",
        "print(m1 - m2)\n",
        "print(m1 * m2)"
      ],
      "metadata": {
        "colab": {
          "base_uri": "https://localhost:8080/"
        },
        "id": "Nnqdj-Y12COB",
        "outputId": "a478602e-7eb2-4eac-8f51-56ac02d7c297"
      },
      "execution_count": 44,
      "outputs": [
        {
          "output_type": "stream",
          "name": "stdout",
          "text": [
            "[ 9 10  9  5  2] [5 3 8 5 9]\n",
            "[14 13 17 10 11]\n",
            "[ 4  7  1  0 -7]\n",
            "[45 30 72 25 18]\n"
          ]
        }
      ]
    },
    {
      "cell_type": "markdown",
      "source": [
        "Створіть два вектори розміром 7, заповніть довільними числами та знайдіть їх скалярний добуток."
      ],
      "metadata": {
        "id": "v4eufQb95RgJ"
      }
    },
    {
      "cell_type": "code",
      "source": [
        "a = np.random.random(7)\n",
        "b = np.random.random(7)\n",
        "print(a)\n",
        "print(b)\n",
        "print(np.dot(a, b))"
      ],
      "metadata": {
        "colab": {
          "base_uri": "https://localhost:8080/"
        },
        "id": "5uCcqyBl29Qw",
        "outputId": "576d9246-fd57-4153-92a6-ea7fd6f9403c"
      },
      "execution_count": 16,
      "outputs": [
        {
          "output_type": "stream",
          "name": "stdout",
          "text": [
            "[0.17456077 0.58220767 0.70769727 0.858013   0.87477224 0.90080058\n",
            " 0.30445237]\n",
            "[0.23285148 0.24538876 0.61582015 0.5611242  0.55858774 0.53244922\n",
            " 0.5060509 ]\n",
            "2.223116061230587\n"
          ]
        }
      ]
    },
    {
      "cell_type": "markdown",
      "source": [
        "Створіть дві матриці розміром 2x2 та 2x3, заповніть їх випадковими цілими числами в діапазоні від 1 до 10 та перемножте їх між собою."
      ],
      "metadata": {
        "id": "wTziYIv_5Vdv"
      }
    },
    {
      "cell_type": "code",
      "source": [
        "m22 = np.random.randint(1, 11, (2, 2))\n",
        "m23 = np.random.randint(1, 11, (2, 3))\n",
        "print(m22)\n",
        "print(m23)\n",
        "print(np.dot(m22, m23))"
      ],
      "metadata": {
        "colab": {
          "base_uri": "https://localhost:8080/"
        },
        "id": "cd3zKcYa4ZyY",
        "outputId": "cc9c47e9-f877-4396-c0dc-e41117e91ad6"
      },
      "execution_count": 45,
      "outputs": [
        {
          "output_type": "stream",
          "name": "stdout",
          "text": [
            "[[9 8]\n",
            " [7 3]]\n",
            "[[1 7 2]\n",
            " [3 2 8]]\n",
            "[[33 79 82]\n",
            " [16 55 38]]\n"
          ]
        }
      ]
    },
    {
      "cell_type": "markdown",
      "source": [],
      "metadata": {
        "id": "bAJKV157416k"
      }
    },
    {
      "cell_type": "markdown",
      "source": [
        "Створіть матрицю розміром 3x3, заповніть її випадковими цілими числами в діапазоні від 1 до 10 та знайдіть її обернену матрицю."
      ],
      "metadata": {
        "id": "BZLuhgU55Zsz"
      }
    },
    {
      "cell_type": "code",
      "source": [
        "m33 = np.random.randint(1, 11, (3, 3))\n",
        "print(m33)\n",
        "print(np.linalg.inv(m33))"
      ],
      "metadata": {
        "colab": {
          "base_uri": "https://localhost:8080/"
        },
        "id": "916Dzj555eIU",
        "outputId": "9e5aab49-68ff-4e96-8018-447ec07a98f2"
      },
      "execution_count": 46,
      "outputs": [
        {
          "output_type": "stream",
          "name": "stdout",
          "text": [
            "[[ 5  8  1]\n",
            " [ 3  1  9]\n",
            " [10 10  3]]\n",
            "[[-0.37339056 -0.06008584  0.30472103]\n",
            " [ 0.34763948  0.02145923 -0.18025751]\n",
            " [ 0.08583691  0.12875536 -0.08154506]]\n"
          ]
        }
      ]
    },
    {
      "cell_type": "markdown",
      "source": [
        "Створіть матрицю розміром 4x4, заповніть її випадковими дійсними числами в діапазоні від 0 до 1 та транспонуйте її."
      ],
      "metadata": {
        "id": "lAz9c7jMfUUT"
      }
    },
    {
      "cell_type": "code",
      "source": [
        "m44 = np.random.random((4, 4))\n",
        "print(m44)\n",
        "m44tr = m44.T\n",
        "print(m44tr)"
      ],
      "metadata": {
        "colab": {
          "base_uri": "https://localhost:8080/"
        },
        "id": "svqAZQQufVaZ",
        "outputId": "9cefde2d-6f01-4a70-fb64-b494f08d0dad"
      },
      "execution_count": 47,
      "outputs": [
        {
          "output_type": "stream",
          "name": "stdout",
          "text": [
            "[[0.46328463 0.51976403 0.27989416 0.87887518]\n",
            " [0.05783446 0.03441837 0.69844073 0.0247188 ]\n",
            " [0.54016962 0.72883162 0.31289432 0.02693794]\n",
            " [0.04538711 0.17579383 0.49180483 0.70824553]]\n",
            "[[0.46328463 0.05783446 0.54016962 0.04538711]\n",
            " [0.51976403 0.03441837 0.72883162 0.17579383]\n",
            " [0.27989416 0.69844073 0.31289432 0.49180483]\n",
            " [0.87887518 0.0247188  0.02693794 0.70824553]]\n"
          ]
        }
      ]
    },
    {
      "cell_type": "markdown",
      "source": [
        "Створіть матрицю розміром 3x4 та вектор розміром 4, заповніть їх випадковими цілими числами в діапазоні від 1 до 10 та перемножте матрицю на вектор."
      ],
      "metadata": {
        "id": "rOSXCa_3lUCU"
      }
    },
    {
      "cell_type": "code",
      "source": [
        "m34 = np.random.randint(1, 11, (3, 4))\n",
        "v = np.random.randint(1, 11, (4))\n",
        "print(m34)\n",
        "print(v)\n",
        "print(np.dot(m34, v))"
      ],
      "metadata": {
        "colab": {
          "base_uri": "https://localhost:8080/"
        },
        "id": "6UYkEzcYlZAk",
        "outputId": "a68161c0-bc5e-46d9-97e5-294c1962a24c"
      },
      "execution_count": 48,
      "outputs": [
        {
          "output_type": "stream",
          "name": "stdout",
          "text": [
            "[[ 9  7 10  2]\n",
            " [ 2  9  3  6]\n",
            " [ 6  5  4  2]]\n",
            "[6 8 4 2]\n",
            "[154 108  96]\n"
          ]
        }
      ]
    },
    {
      "cell_type": "markdown",
      "source": [
        "Створіть матрицю розміром 2x3 та вектор розміром 3, заповніть їх випадковими дійсними числами в діапазоні від 0 до 1 та перемножте матрицю на вектор."
      ],
      "metadata": {
        "id": "T51Bf83ZpYaf"
      }
    },
    {
      "cell_type": "code",
      "source": [
        "m23 = np.random.random((2, 3))\n",
        "v = np.random.random((3))\n",
        "print(m23)\n",
        "print(v)\n",
        "print(np.dot(m23, v))"
      ],
      "metadata": {
        "colab": {
          "base_uri": "https://localhost:8080/"
        },
        "id": "I1p21tg2pbiS",
        "outputId": "8576cfd9-f8c9-4621-847b-9bbbde8b3926"
      },
      "execution_count": 20,
      "outputs": [
        {
          "output_type": "stream",
          "name": "stdout",
          "text": [
            "[[0.04577708 0.73454836 0.89945709]\n",
            " [0.45543309 0.21229124 0.82724346]]\n",
            "[0.18704644 0.75917646 0.68382097]\n",
            "[1.18128189 0.81204008]\n"
          ]
        }
      ]
    },
    {
      "cell_type": "markdown",
      "source": [
        "Створіть дві матриці розміром 2x2, заповніть їх випадковими цілими числами в діапазоні від 1 до 10 та виконайте їхнє поелементне множення."
      ],
      "metadata": {
        "id": "UDlN5gKbp_7c"
      }
    },
    {
      "cell_type": "code",
      "source": [
        "m1 = np.random.randint(1, 11, (2, 2))\n",
        "m2 = np.random.randint(1, 11, (2, 2))\n",
        "print(m1)\n",
        "print(m2)\n",
        "print(m1 * m2)"
      ],
      "metadata": {
        "colab": {
          "base_uri": "https://localhost:8080/"
        },
        "id": "mUtCQxDhqEd3",
        "outputId": "a66c095b-4922-4377-bd2a-82fe998b011e"
      },
      "execution_count": 21,
      "outputs": [
        {
          "output_type": "stream",
          "name": "stdout",
          "text": [
            "[[ 4 10]\n",
            " [10  3]]\n",
            "[[ 6  4]\n",
            " [ 5 10]]\n",
            "[[24 40]\n",
            " [50 30]]\n"
          ]
        }
      ]
    },
    {
      "cell_type": "markdown",
      "source": [
        "Створіть дві матриці розміром 2x2, заповніть їх випадковими цілими числами в діапазоні від 1 до 10 та знайдіть їх добуток."
      ],
      "metadata": {
        "id": "zN99Vbmzqc6R"
      }
    },
    {
      "cell_type": "code",
      "source": [
        "m1 = np.random.randint(1, 11, (2, 2))\n",
        "m2 = np.random.randint(1, 11, (2, 2))\n",
        "print(m1)\n",
        "print(m2)\n",
        "print(np.dot(m1, m2))"
      ],
      "metadata": {
        "colab": {
          "base_uri": "https://localhost:8080/"
        },
        "id": "Px8bxYFnqf4U",
        "outputId": "bfc879a5-10a1-4f58-c7bc-6c42503c960f"
      },
      "execution_count": 24,
      "outputs": [
        {
          "output_type": "stream",
          "name": "stdout",
          "text": [
            "[[1 4]\n",
            " [4 2]]\n",
            "[[ 8  5]\n",
            " [10  3]]\n",
            "[[48 17]\n",
            " [52 26]]\n"
          ]
        }
      ]
    },
    {
      "cell_type": "markdown",
      "source": [
        "Створіть матрицю розміром 5x5, заповніть її випадковими цілими числами в діапазоні від 1 до 100 та знайдіть суму елементів матриці."
      ],
      "metadata": {
        "id": "FY0da8WEsMRI"
      }
    },
    {
      "cell_type": "code",
      "source": [
        "m55 = np.random.randint(1, 101, (5, 5))\n",
        "print(m55)\n",
        "print(m55.sum())"
      ],
      "metadata": {
        "colab": {
          "base_uri": "https://localhost:8080/"
        },
        "id": "Kenkk8HasPYH",
        "outputId": "7990060f-8c1b-420f-ae97-3690a64b5478"
      },
      "execution_count": 25,
      "outputs": [
        {
          "output_type": "stream",
          "name": "stdout",
          "text": [
            "[[18 71 72 36 69]\n",
            " [31 43 82  8 90]\n",
            " [39 59 84 38 76]\n",
            " [70 25 45 55 98]\n",
            " [ 2 37 26  1 86]]\n",
            "1261\n"
          ]
        }
      ]
    },
    {
      "cell_type": "markdown",
      "source": [
        "Створіть дві матриці розміром 4x4, заповніть їх випадковими цілими числами в діапазоні від 1 до 10 та знайдіть їхню різницю."
      ],
      "metadata": {
        "id": "-uZHK-0CsuN_"
      }
    },
    {
      "cell_type": "code",
      "source": [
        "m1 = np.random.randint(1, 11, (4, 4))\n",
        "m2 = np.random.randint(1, 11, (4, 4))\n",
        "print(m1)\n",
        "print(m2)\n",
        "print(m1 - m2)"
      ],
      "metadata": {
        "colab": {
          "base_uri": "https://localhost:8080/"
        },
        "id": "dn9jtkVos1Lk",
        "outputId": "e1081fff-2ec3-40d9-ae84-fd32f320bbc4"
      },
      "execution_count": 26,
      "outputs": [
        {
          "output_type": "stream",
          "name": "stdout",
          "text": [
            "[[8 4 5 2]\n",
            " [9 2 7 3]\n",
            " [9 1 6 8]\n",
            " [6 2 8 9]]\n",
            "[[ 1  6  8  6]\n",
            " [ 7  7  8 10]\n",
            " [ 3  7  3  1]\n",
            " [ 5  7  8  9]]\n",
            "[[ 7 -2 -3 -4]\n",
            " [ 2 -5 -1 -7]\n",
            " [ 6 -6  3  7]\n",
            " [ 1 -5  0  0]]\n"
          ]
        }
      ]
    },
    {
      "cell_type": "markdown",
      "source": [
        "Створіть матрицю розміром 3x3, заповніть її випадковими дійсними числами в діапазоні від 0 до 1 та знайдіть вектор-стовпчик, що містить суму елементів кожного рядка матриці."
      ],
      "metadata": {
        "id": "5CSE9EfitM_m"
      }
    },
    {
      "cell_type": "code",
      "source": [
        "m33 = np.random.random((3, 3))\n",
        "print(m33)\n",
        "v = [m33[i].sum() for i in range(len(m33))]\n",
        "print(v)"
      ],
      "metadata": {
        "colab": {
          "base_uri": "https://localhost:8080/"
        },
        "id": "cEYkLtKKtQ_Z",
        "outputId": "bf6f9a04-55b6-4ee3-973b-64375b385835"
      },
      "execution_count": 30,
      "outputs": [
        {
          "output_type": "stream",
          "name": "stdout",
          "text": [
            "[[0.35448119 0.7471389  0.66989308]\n",
            " [0.51175276 0.03417271 0.45292538]\n",
            " [0.60025192 0.11835657 0.73617335]]\n",
            "[1.7715131691067887, 0.9988508514949872, 1.4547818313448309]\n"
          ]
        }
      ]
    },
    {
      "cell_type": "markdown",
      "source": [
        "Створіть матрицю розміром 3x4 з довільними цілими числами і створінь матрицю з квадратами цих чисел."
      ],
      "metadata": {
        "id": "AMaP1RbiwrEk"
      }
    },
    {
      "cell_type": "code",
      "source": [
        "m34 = np.random.randint(0, 100, (3, 4))\n",
        "print(m34)\n",
        "print(m34 * m34)"
      ],
      "metadata": {
        "colab": {
          "base_uri": "https://localhost:8080/"
        },
        "id": "ABo7UxD0wuZY",
        "outputId": "36e200c4-34a5-4a43-c016-d3a4cd6f7f92"
      },
      "execution_count": 38,
      "outputs": [
        {
          "output_type": "stream",
          "name": "stdout",
          "text": [
            "[[36 23 66  1]\n",
            " [46 54 12 79]\n",
            " [83 46 15 60]]\n",
            "[[1296  529 4356    1]\n",
            " [2116 2916  144 6241]\n",
            " [6889 2116  225 3600]]\n"
          ]
        }
      ]
    },
    {
      "cell_type": "markdown",
      "source": [
        "Створіть вектор розміром 4, заповніть його випадковими цілими числами в діапазоні від 1 до 50 та знайдіть вектор з квадратними коренями цих чисел."
      ],
      "metadata": {
        "id": "xlgSBN0Jxg8c"
      }
    },
    {
      "cell_type": "code",
      "source": [
        "v = np.random.randint(1, 51, (4))\n",
        "print(v)\n",
        "v_sqrt = np.sqrt(v)\n",
        "print(v_sqrt)"
      ],
      "metadata": {
        "colab": {
          "base_uri": "https://localhost:8080/"
        },
        "id": "9E-P_h0CxlGZ",
        "outputId": "4b716c7c-cb49-4e87-f946-14ed7e1c142b"
      },
      "execution_count": 40,
      "outputs": [
        {
          "output_type": "stream",
          "name": "stdout",
          "text": [
            "[46 23 49 20]\n",
            "[6.78232998 4.79583152 7.         4.47213595]\n"
          ]
        }
      ]
    }
  ]
}