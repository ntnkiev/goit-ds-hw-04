{
  "nbformat": 4,
  "nbformat_minor": 0,
  "metadata": {
    "colab": {
      "provenance": [],
      "authorship_tag": "ABX9TyNLpp7RvWCfGw80vl/grVIU",
      "include_colab_link": true
    },
    "kernelspec": {
      "name": "python3",
      "display_name": "Python 3"
    },
    "language_info": {
      "name": "python"
    }
  },
  "cells": [
    {
      "cell_type": "markdown",
      "metadata": {
        "id": "view-in-github",
        "colab_type": "text"
      },
      "source": [
        "<a href=\"https://colab.research.google.com/github/ntnkiev/goit-ds-hw-04/blob/main/goit_ds_hw04.ipynb\" target=\"_parent\"><img src=\"https://colab.research.google.com/assets/colab-badge.svg\" alt=\"Open In Colab\"/></a>"
      ]
    },
    {
      "cell_type": "code",
      "source": [
        "import numpy as np\n"
      ],
      "metadata": {
        "id": "6ct_j6qVz9Nm"
      },
      "execution_count": null,
      "outputs": []
    },
    {
      "cell_type": "markdown",
      "source": [
        "Створіть одновимірний масив (вектор) з першими 10-ма натуральними числами та виведіть його значення."
      ],
      "metadata": {
        "id": "v9LIAm8C44bA"
      }
    },
    {
      "cell_type": "code",
      "execution_count": null,
      "metadata": {
        "colab": {
          "base_uri": "https://localhost:8080/"
        },
        "id": "TRpevnWszak5",
        "outputId": "51150197-c836-4adb-c07e-955dc6d6c363"
      },
      "outputs": [
        {
          "output_type": "stream",
          "name": "stdout",
          "text": [
            "[ 1.  2.  3.  4.  5.  6.  7.  8.  9. 10.]\n"
          ]
        }
      ],
      "source": [
        "a = np.array([1, 2, 3, 4, 5, 6, 7, 8, 9 ,10], dtype=float)\n",
        "print(a)"
      ]
    },
    {
      "cell_type": "markdown",
      "source": [
        "Створіть двовимірний масив (матрицю) розміром 3x3, заповніть його нулями та виведіть його значення."
      ],
      "metadata": {
        "id": "TcylfANq49zM"
      }
    },
    {
      "cell_type": "code",
      "source": [
        "m = np.zeros((3, 3), dtype=int)\n",
        "print(m)"
      ],
      "metadata": {
        "colab": {
          "base_uri": "https://localhost:8080/"
        },
        "id": "moibaNA-0QbC",
        "outputId": "a7390a22-a250-40e3-8569-3c4791b755f6"
      },
      "execution_count": null,
      "outputs": [
        {
          "output_type": "stream",
          "name": "stdout",
          "text": [
            "[[0 0 0]\n",
            " [0 0 0]\n",
            " [0 0 0]]\n"
          ]
        }
      ]
    },
    {
      "cell_type": "markdown",
      "source": [
        "Створіть масив розміром 5x5, заповніть його випадковими цілими числами в діапазоні від 1 до 10 та виведіть його значення."
      ],
      "metadata": {
        "id": "WcQvSuk_5F7-"
      }
    },
    {
      "cell_type": "code",
      "source": [
        "rand55 = np.random.random((5, 5))*10//1\n",
        "print(rand55)"
      ],
      "metadata": {
        "colab": {
          "base_uri": "https://localhost:8080/"
        },
        "id": "LxzuptOg0pOi",
        "outputId": "6cff8a5f-599b-42e1-c1ec-0e83f022e586"
      },
      "execution_count": null,
      "outputs": [
        {
          "output_type": "stream",
          "name": "stdout",
          "text": [
            "[[2. 3. 9. 3. 6.]\n",
            " [2. 2. 8. 0. 5.]\n",
            " [5. 9. 0. 6. 4.]\n",
            " [1. 2. 8. 9. 4.]\n",
            " [5. 1. 5. 8. 2.]]\n"
          ]
        }
      ]
    },
    {
      "cell_type": "markdown",
      "source": [
        "Створіть масив розміром 4x4, заповніть його випадковими дійсними числами в діапазоні від 0 до 1 та виведіть його значення."
      ],
      "metadata": {
        "id": "XEox7pxV5JkP"
      }
    },
    {
      "cell_type": "code",
      "source": [
        "rand44 = np.random.random((4, 4))\n",
        "print(rand44)"
      ],
      "metadata": {
        "colab": {
          "base_uri": "https://localhost:8080/"
        },
        "id": "vsDEMHrG1f7d",
        "outputId": "38239bb0-d779-44b7-f199-43a7147ad413"
      },
      "execution_count": null,
      "outputs": [
        {
          "output_type": "stream",
          "name": "stdout",
          "text": [
            "[[0.57276351 0.7010899  0.85960352 0.00603897]\n",
            " [0.23261796 0.48025127 0.91933783 0.70550749]\n",
            " [0.36850743 0.83632504 0.30502071 0.853596  ]\n",
            " [0.42383719 0.84189373 0.02768072 0.14430652]]\n"
          ]
        }
      ]
    },
    {
      "cell_type": "markdown",
      "source": [
        "Створіть два одновимірних масиви розміром 5, заповніть їх випадковими цілими числами в діапазоні від 1 до 10 та виконайте на них поелементні операції додавання, віднімання та множення."
      ],
      "metadata": {
        "id": "PUKBzO8m5N1G"
      }
    },
    {
      "cell_type": "code",
      "source": [
        "a = np.random.random(5)*10//1\n",
        "b = np.random.random(5)*10//1\n",
        "print(a, b)\n",
        "print(a+b)\n",
        "print(a-b)\n",
        "print(a*b)"
      ],
      "metadata": {
        "colab": {
          "base_uri": "https://localhost:8080/"
        },
        "id": "Nnqdj-Y12COB",
        "outputId": "72bf42ed-9e99-498a-94c7-5470da30c566"
      },
      "execution_count": null,
      "outputs": [
        {
          "output_type": "stream",
          "name": "stdout",
          "text": [
            "[3. 6. 2. 5. 3.] [9. 9. 9. 6. 4.]\n",
            "[12. 15. 11. 11.  7.]\n",
            "[-6. -3. -7. -1. -1.]\n",
            "[27. 54. 18. 30. 12.]\n"
          ]
        }
      ]
    },
    {
      "cell_type": "markdown",
      "source": [
        "Створіть два вектори розміром 7, заповніть довільними числами та знайдіть їх скалярний добуток."
      ],
      "metadata": {
        "id": "v4eufQb95RgJ"
      }
    },
    {
      "cell_type": "code",
      "source": [
        "a = np.random.random(7)*10//1\n",
        "b = np.random.random(7)*10//1\n",
        "print(a)\n",
        "print(b)\n",
        "print(np.dot(a, b))"
      ],
      "metadata": {
        "colab": {
          "base_uri": "https://localhost:8080/"
        },
        "id": "5uCcqyBl29Qw",
        "outputId": "2039e58d-8ac1-434b-ea10-a5b18c0a88a8"
      },
      "execution_count": null,
      "outputs": [
        {
          "output_type": "stream",
          "name": "stdout",
          "text": [
            "[4. 3. 0. 6. 0. 1. 9.]\n",
            "[3. 8. 2. 8. 7. 5. 6.]\n",
            "143.0\n"
          ]
        }
      ]
    },
    {
      "cell_type": "markdown",
      "source": [
        "Створіть дві матриці розміром 2x2 та 2x3, заповніть їх випадковими цілими числами в діапазоні від 1 до 10 та перемножте їх між собою."
      ],
      "metadata": {
        "id": "wTziYIv_5Vdv"
      }
    },
    {
      "cell_type": "code",
      "source": [
        "a = np.random.random((2, 2))*10//1\n",
        "b = np.random.random((2, 3))*10//1\n",
        "print(a)\n",
        "print(b)\n",
        "print(np.dot(a, b))"
      ],
      "metadata": {
        "colab": {
          "base_uri": "https://localhost:8080/"
        },
        "id": "cd3zKcYa4ZyY",
        "outputId": "ad8d4621-eae3-43bb-a3df-5aec39a9acd8"
      },
      "execution_count": null,
      "outputs": [
        {
          "output_type": "stream",
          "name": "stdout",
          "text": [
            "[[3. 5.]\n",
            " [4. 2.]]\n",
            "[[9. 7. 9.]\n",
            " [0. 3. 3.]]\n",
            "[[27. 36. 42.]\n",
            " [36. 34. 42.]]\n"
          ]
        }
      ]
    },
    {
      "cell_type": "markdown",
      "source": [],
      "metadata": {
        "id": "bAJKV157416k"
      }
    },
    {
      "cell_type": "markdown",
      "source": [
        "Створіть матрицю розміром 3x3, заповніть її випадковими цілими числами в діапазоні від 1 до 10 та знайдіть її обернену матрицю."
      ],
      "metadata": {
        "id": "BZLuhgU55Zsz"
      }
    },
    {
      "cell_type": "code",
      "source": [
        "rand33 = np.random.random((3, 3))*10//1\n",
        "print(rand33)\n",
        "print(np.linalg.inv(rand33))"
      ],
      "metadata": {
        "colab": {
          "base_uri": "https://localhost:8080/"
        },
        "id": "916Dzj555eIU",
        "outputId": "3ac0314c-f35b-406d-fe14-3abf0f918308"
      },
      "execution_count": null,
      "outputs": [
        {
          "output_type": "stream",
          "name": "stdout",
          "text": [
            "[[1. 8. 1.]\n",
            " [1. 7. 2.]\n",
            " [2. 6. 2.]]\n",
            "[[ 0.2 -1.   0.9]\n",
            " [ 0.2  0.  -0.1]\n",
            " [-0.8  1.  -0.1]]\n"
          ]
        }
      ]
    }
  ]
}